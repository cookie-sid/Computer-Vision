{
 "cells": [
  {
   "cell_type": "markdown",
   "metadata": {},
   "source": [
    "# Assignment 2"
   ]
  },
  {
   "cell_type": "markdown",
   "metadata": {},
   "source": [
    "### Importing Libraries"
   ]
  },
  {
   "cell_type": "code",
   "execution_count": 69,
   "metadata": {},
   "outputs": [],
   "source": [
    "import cv2\n",
    "import numpy as np\n",
    "import time\n",
    "import math as m\n",
    "import random"
   ]
  },
  {
   "cell_type": "markdown",
   "metadata": {},
   "source": [
    "### Gaussian function for getting gaussian values for a particular (x,y) point"
   ]
  },
  {
   "cell_type": "code",
   "execution_count": 70,
   "metadata": {},
   "outputs": [
    {
     "name": "stdout",
     "output_type": "stream",
     "text": [
      "[[ 0  1  0]\n",
      " [-1 -1 -1]\n",
      " [-2 -3 -2]]\n"
     ]
    }
   ],
   "source": [
    "def evaluator(x, y, sigma):\n",
    "    return (1/(2 * (m.pi) * ((sigma) ** 2))*(1/(m.exp(((x**2) + (y**2))/(2 * (sigma ** 2))))))\n",
    "\n",
    "x = np.array([[1, 2, 1],\n",
    "                  [0, 0, 0],\n",
    "                  [-1, -2, -1]])\n",
    "x = x - 1\n",
    "print(x)"
   ]
  },
  {
   "cell_type": "markdown",
   "metadata": {},
   "source": [
    "### Function to get the gaussian filter"
   ]
  },
  {
   "cell_type": "code",
   "execution_count": 71,
   "metadata": {},
   "outputs": [],
   "source": [
    "def gauss_filter(size, sigma):\n",
    "    \n",
    "    gs_filter = np.zeros((size,size))\n",
    "    \n",
    "    for x in range(size):\n",
    "        for y in range(size):\n",
    "            gs_filter[x,y] = evaluator(x - (size//2),y - (size//2),sigma)\n",
    "\n",
    "    return gs_filter"
   ]
  },
  {
   "cell_type": "markdown",
   "metadata": {},
   "source": [
    "### Function to apply a filter to an image"
   ]
  },
  {
   "cell_type": "code",
   "execution_count": 72,
   "metadata": {},
   "outputs": [],
   "source": [
    "def filter_the_img(image,filt,size):\n",
    "    \n",
    "    image_row,image_col = image.shape # rows and columns in our image\n",
    "    res = np.zeros(image.shape) # we'll save results in this array\n",
    "    \n",
    "    val = size//2 # limit so that these values aren't affected in the output array\n",
    "    \n",
    "    for row in range(image_row):\n",
    "        for col in range(image_col):\n",
    "            if(row < val or row > image_row - val - 1 or col < val or col > image_col - val - 1):\n",
    "                res[row,col] = image[row,col] # cant apply filter to these values\n",
    "            else:\n",
    "                res[row, col] = np.sum(filt * image[row-val:row+val+1, col-val:col+val+1])\n",
    "    return res"
   ]
  },
  {
   "cell_type": "markdown",
   "metadata": {},
   "source": [
    "### Function to get horizontally and vertically sobel filtered images"
   ]
  },
  {
   "cell_type": "code",
   "execution_count": 73,
   "metadata": {},
   "outputs": [],
   "source": [
    "def sobel_h(image):\n",
    "    x = np.array([[1, 2, 1],\n",
    "                  [0, 0, 0],\n",
    "                  [-1, -2, -1]])\n",
    "    res = filter_the_img(image,x,3)\n",
    "    return res\n",
    "\n",
    "def sobel_v(image):\n",
    "    y = np.array([[1, 0, -1],\n",
    "                  [2, 0, -2],\n",
    "                  [1, 0, -1]])\n",
    "    res = filter_the_img(image,y,3)\n",
    "    return res"
   ]
  },
  {
   "cell_type": "markdown",
   "metadata": {},
   "source": [
    "### Function that applies non-max suppression to given input"
   ]
  },
  {
   "cell_type": "code",
   "execution_count": 74,
   "metadata": {},
   "outputs": [],
   "source": [
    "def nms(image):\n",
    "    res = image\n",
    "    r,c = image.shape\n",
    "    \n",
    "    for i in range(1, r - 1):\n",
    "        for j in range(1, c - 1):\n",
    "            #check if current element is the maximum of surrounding elements, if no, assign it to 0 else, set neighbours to 0\n",
    "            if image[i,j] != max(image[i-1,j-1],image[i-1,j],image[i-1,j+1] #first row elements\n",
    "                                ,image[i,j-1],image[i,j],image[i,j+1] #second row elements\n",
    "                                ,image[i+1,j-1],image[i+1,j],image[i+1,j+1]): #thrid row elements\n",
    "                res[i,j] = 0\n",
    "            else:\n",
    "                #setting all neighbouring elements to zero\n",
    "                temp = image[i,j]\n",
    "                res[i-1:i+2,j-1:j+2] = 0\n",
    "                res[i][j] = temp\n",
    "    return res"
   ]
  },
  {
   "cell_type": "markdown",
   "metadata": {},
   "source": [
    "### Function to calculating Hessian and thresholding it after that"
   ]
  },
  {
   "cell_type": "code",
   "execution_count": 75,
   "metadata": {},
   "outputs": [],
   "source": [
    "def hes(image):\n",
    "    \n",
    "    r,c = image.shape\n",
    "    res = np.zeros((r,c)) #result array\n",
    "\n",
    "    \n",
    "    I_xx = sobel_h(sobel_h(image)) #finding Ixx\n",
    "    I_xy = sobel_h(sobel_v(image)) #finding Ixy\n",
    "    I_yy = sobel_v(sobel_v(image)) #finding Iyy\n",
    "    \n",
    "\n",
    "    #getting the determinant of hessian matrix\n",
    "    h_det = np.zeros(image.shape)\n",
    "    for i in range(r):\n",
    "        for j in range(c):\n",
    "            h_det[i,j] = I_xx[i,j]*I_yy[i,j] - I_xy[i,j]*I_xy[i,j]\n",
    "\n",
    "    #finding min and max values for normalizing the image\n",
    "    #new min = 0, new max = 255\n",
    "    mini = np.min(h_det)\n",
    "    maxi = np.max(h_det)\n",
    "    new_range = maxi - mini\n",
    "    \n",
    "    #noramlizing the image\n",
    "    h_det = h_det - mini\n",
    "    h_det = h_det * 255\n",
    "    h_det = h_det / new_range\n",
    "\n",
    "    #thresholding the determinant\n",
    "    thresh = 145\n",
    "    for i in range(r):\n",
    "        for j in range(c):\n",
    "            #if value < threshold, set it 0, else set it to max\n",
    "            if h_det[i][j] < thresh:\n",
    "                h_det[i][j] = 0\n",
    "            else:\n",
    "                h_det[i][j] = 255\n",
    "    \n",
    "    #applying non max supression to the normalized and thresholded hessian determinant            \n",
    "    res = nms(h_det)\n",
    "\n",
    "    return res"
   ]
  },
  {
   "cell_type": "markdown",
   "metadata": {},
   "source": [
    "### Function that returns all elements that pass the threshold"
   ]
  },
  {
   "cell_type": "code",
   "execution_count": 76,
   "metadata": {},
   "outputs": [],
   "source": [
    "def get_valid_pixels(image, threshold):\n",
    "    #(x,y) pairs are stores as tuples\n",
    "    pixels = []\n",
    "\n",
    "    #for every pixel check if it is above the threshold\n",
    "    for p in range(image.shape[0]):\n",
    "        for q in range(image.shape[1]):\n",
    "            if image[p,q] > threshold:\n",
    "                pixels.append((q, p))\n",
    "\n",
    "    return pixels"
   ]
  },
  {
   "cell_type": "markdown",
   "metadata": {},
   "source": [
    "### Function that returns two random elements from a list"
   ]
  },
  {
   "cell_type": "code",
   "execution_count": 77,
   "metadata": {},
   "outputs": [],
   "source": [
    "def get_random(pixel_list):\n",
    "    first,second = 0,0\n",
    "    \n",
    "    #while loop to ensure that both points are different\n",
    "    while first == second:\n",
    "        first = random.randint(0,len(pixel_list) - 1)\n",
    "        second = random.randint(0,len(pixel_list) - 1)\n",
    "\n",
    "    return pixel_list[first], pixel_list[second]"
   ]
  },
  {
   "cell_type": "markdown",
   "metadata": {},
   "source": [
    "### Function that returns slope and intercept of line passing through two points"
   ]
  },
  {
   "cell_type": "code",
   "execution_count": 78,
   "metadata": {},
   "outputs": [],
   "source": [
    "def get_m_and_c(p1, p2):\n",
    "    #getting x and y coordinates\n",
    "    x1,y1 = p1\n",
    "    x2,y2 = p2\n",
    "    \n",
    "    #if the line is vertical\n",
    "    if(x1 == x2):\n",
    "        slope = m.inf\n",
    "    else:\n",
    "        slope = (y2 - y1)/(x2 - x1)\n",
    "    \n",
    "    #y = slope*x + c satisfies p1, so c = -slope*x1 + y1\n",
    "    c = -slope*x1 + y1\n",
    "    return slope, c"
   ]
  },
  {
   "cell_type": "markdown",
   "metadata": {},
   "source": [
    "### Function that finds the perpendicular distance of a point from a line"
   ]
  },
  {
   "cell_type": "code",
   "execution_count": 79,
   "metadata": {},
   "outputs": [],
   "source": [
    "def get_min_dist(slope,c,x,y):\n",
    "    # min distance of (x1,y1) from line ax + by + c = 0 is abs(ax1 + by1 + c)/sqrt(a**2 + b**2)\n",
    "    top = abs(y - slope*x - c)\n",
    "    bottom = m.sqrt(slope*slope + 1)\n",
    "    return top/bottom"
   ]
  },
  {
   "cell_type": "markdown",
   "metadata": {},
   "source": [
    "### RANSAC Algorithm to determine 4 best lines"
   ]
  },
  {
   "cell_type": "code",
   "execution_count": 80,
   "metadata": {},
   "outputs": [],
   "source": [
    "def ransac(image, normal_image, num_of_lines, num_of_points):\n",
    "    \n",
    "    #getting valid pixel points\n",
    "    points = get_valid_pixels(image,0)\n",
    "    lines_found = 0\n",
    "\n",
    "    while(lines_found < num_of_lines):\n",
    "        #get 2 random points\n",
    "        p1, p2 = get_random(points)\n",
    "\n",
    "        #get a model line between these 2 points\n",
    "        slope, c = get_m_and_c(p1, p2)\n",
    "        #to keep a track of points that are close enough\n",
    "        inliers = []\n",
    "\n",
    "        # Variable for the largest distance a line can have based on its inliers\n",
    "        max_line_size = 0\n",
    "\n",
    "        #Check each point if it's an inlier or not\n",
    "        for p in points:\n",
    "            # Get distance between line and point\n",
    "            min_dist = get_min_dist(slope, c, p[0], p[1])\n",
    "            \n",
    "            #check if it's close enough\n",
    "            if min_dist < 3:\n",
    "                inliers.append(p)\n",
    "\n",
    "        #check if numbers of inliers is greater than number of points needed to call it a valid line\n",
    "        if(len(inliers) > num_of_points):\n",
    "            lines_found += 1\n",
    "            \n",
    "            #remove inliers from original points so that they are not reused\n",
    "            for p1 in inliers:\n",
    "                points.remove(p1)\n",
    "\n",
    "                #plotting the inliers as 3x3 squares\n",
    "                for i in range(0, 3):\n",
    "                    for j in range(0, 3):\n",
    "                        #checking if the point is out of bound\n",
    "                        if ((p1[0] + i - 1) > image.shape[0]) or ((p1[1] + j - 1) > image.shape[1]):\n",
    "                            continue\n",
    "                        else:\n",
    "                            image[p1[1] + j - 1,p1[0] + i - 1] = 255\n",
    "\n",
    "                #looping through inliers to find two farthest points \n",
    "                for p2 in inliers:\n",
    "                    #distance between two points\n",
    "                    dist = m.sqrt(((p2[0] - p1[0])**2) + ((p2[1] - p1[1])**2))\n",
    "\n",
    "                    #check if it is greater than the max distance\n",
    "                    if dist > max_line_size:\n",
    "                        max_line_size = dist\n",
    "                        farthest = (p1,p2)\n",
    "\n",
    "            #plot line between two farthest points on the image with points\n",
    "            cv2.line(image, farthest[0], farthest[1], (255, 255, 255), thickness=1)\n",
    "\n",
    "            #plot line between two farthest points on the normal image\n",
    "            cv2.line(normal_image, farthest[0], farthest[1], (0, 0, 0), thickness=2)\n",
    "\n",
    "        # Once the four strongest lines have been found show them on the image\n",
    "        if lines_found == 4:\n",
    "            cv2.imshow(\"RANSAC Point image\", image)\n",
    "            cv2.imwrite(\"RANSACPointImage.jpg\", image)\n",
    "            cv2.waitKey(0)\n",
    "            \n",
    "            cv2.imshow(\"RANSAC Normal image\", normal_image)\n",
    "            cv2.imwrite(\"RANSACNormalImage.jpg\", normal_image)\n",
    "            cv2.waitKey(0)"
   ]
  },
  {
   "cell_type": "markdown",
   "metadata": {},
   "source": [
    "### Hough Transform to find 4 strongly supported lines"
   ]
  },
  {
   "cell_type": "code",
   "execution_count": 81,
   "metadata": {},
   "outputs": [],
   "source": [
    "def hough_trans(image, normal_image, num_lines):\n",
    "    r,c = image.shape\n",
    "\n",
    "    #max and min value of rho\n",
    "    max_rho = r + c\n",
    "    min_rho = -c\n",
    "\n",
    "    # since we cannot plot negative rho values we make it positive with this and then subtract again to get original rho\n",
    "    zero_maker = -min_rho\n",
    "\n",
    "    rho_range = max_rho - min_rho\n",
    "\n",
    "    #vote collector\n",
    "    vc = np.zeros((rho_range, 181))\n",
    "\n",
    "    #get feature points from the image\n",
    "    points = get_valid_pixels(image, 0)\n",
    "\n",
    "    #looping through all points\n",
    "    for p in points:\n",
    "        x,y = p\n",
    "\n",
    "        #looping through all angles\n",
    "        for deg in range(0, 181):\n",
    "            rad = m.radians(deg)\n",
    "            #rho = xcos(theta) + ysin(theta)\n",
    "            rho = int(x*m.cos(rad) + y*m.sin(rad) + zero_maker)\n",
    "\n",
    "            #vote for every rho angle pair\n",
    "            vc[rho,deg] += 50 #more votes for better display \n",
    "    \n",
    "    #display image\n",
    "    cv2.imshow(\"Vote Collector\", vc/255)\n",
    "    cv2.imwrite(\"VoteCollector.jpg\", vc)\n",
    "    cv2.waitKey(0)\n",
    "    \n",
    "    #current num of lines drawn\n",
    "    lines_drawn = 0\n",
    "\n",
    "    #highest value in hough transform\n",
    "    maxim = 0\n",
    "\n",
    "    #applying non max suppression to vote collector \n",
    "    svc = nms(vc)\n",
    "    cv2.imshow(\"Suppressed Vote Collector\", svc/255)\n",
    "    cv2.imwrite(\"SuppressedVoteCollector.jpg\", svc)\n",
    "    cv2.waitKey(0)\n",
    "    \n",
    "    while lines_drawn < num_lines:\n",
    "        # Find the max value in the hough transform which should corelate to the parameters of the strongest line\n",
    "        for i in range(svc.shape[0]):\n",
    "            for j in range(svc.shape[1]):\n",
    "                if svc[i,j] > maxim:\n",
    "                    maxi_pair = (i,j)\n",
    "                    maxim = svc[i,j]\n",
    "        \n",
    "        #setting maximum to zero for next iteration\n",
    "        maxim = 0\n",
    "\n",
    "        #setting neighbours to 0 so we don't find the same line again and again\n",
    "        svc[maxi_pair[0] - 10:maxi_pair[0] + 11, maxi_pair[1] - 10:maxi_pair[1] + 11] = 0\n",
    "\n",
    "        theta = m.radians(maxi_pair[1])\n",
    "        #getting original rho\n",
    "        rho = maxi_pair[0] - zero_maker\n",
    "\n",
    "        #getting line params\n",
    "        p = m.cos(theta)\n",
    "        q = m.sin(theta)\n",
    "        x_temp = p*rho\n",
    "        y_temp = q*rho\n",
    "\n",
    "        #generating two points \n",
    "        p1 = (int(x_temp + 10000*(-q)), int(y_temp + 10000*(p)))\n",
    "        p2 = (int(x_temp - 10000*(-q)), int(y_temp - 10000*(p)))\n",
    "\n",
    "        #plot line on the point image\n",
    "        cv2.line(image, p1, p2, (255, 255, 255), thickness=1)\n",
    "\n",
    "        #plot line on the normal image\n",
    "        cv2.line(normal_image, p1, p2, (0, 0, 0), thickness=2)\n",
    "\n",
    "        lines_drawn += 1\n",
    "\n",
    "    cv2.imshow(\"Hough Lines\", image)\n",
    "    cv2.imwrite(\"HoughLines.jpg\", image)\n",
    "    cv2.waitKey(0)\n",
    "\n",
    "    cv2.imshow(\"Hough Lines Original image\", normal_image)\n",
    "    cv2.imwrite(\"HoughLinesOriginalImage.jpg\", normal_image)\n",
    "    cv2.waitKey(0)"
   ]
  },
  {
   "cell_type": "markdown",
   "metadata": {},
   "source": [
    "### Main function"
   ]
  },
  {
   "cell_type": "code",
   "execution_count": 82,
   "metadata": {},
   "outputs": [],
   "source": [
    "if __name__ == \"__main__\":\n",
    "    \n",
    "    image = cv2.imread(\"road.png\")\n",
    "    i_gray = cv2.cvtColor(image, cv2.COLOR_BGR2GRAY)\n",
    "\n",
    "    cv2.imshow(\"Input Image\", i_gray)\n",
    "    cv2.waitKey(0)\n",
    "\n",
    "    gaus = filter_the_img(i_gray, gauss_filter(5,1), 5)\n",
    "\n",
    "    #getting points using hessian\n",
    "    points = hes(gaus)\n",
    "\n",
    "    #showing the key points\n",
    "    cv2.imshow(\"Suppressed key points\", points.copy())\n",
    "    cv2.imwrite(\"SuppressedKeyPoints.jpg\", points.copy())\n",
    "    cv2.waitKey(0)\n",
    "\n",
    "    #RANSAC algo to find 4 lines with at least 50 inliers each\n",
    "    ransac(points.copy(), i_gray.copy(), 4, 50)\n",
    "\n",
    "    #hough transform to find 4 best lines\n",
    "    hough_trans(points.copy(), i_gray.copy(), 4)"
   ]
  }
 ],
 "metadata": {
  "kernelspec": {
   "display_name": "Python 3",
   "language": "python",
   "name": "python3"
  },
  "language_info": {
   "codemirror_mode": {
    "name": "ipython",
    "version": 3
   },
   "file_extension": ".py",
   "mimetype": "text/x-python",
   "name": "python",
   "nbconvert_exporter": "python",
   "pygments_lexer": "ipython3",
   "version": "3.7.6"
  }
 },
 "nbformat": 4,
 "nbformat_minor": 4
}
