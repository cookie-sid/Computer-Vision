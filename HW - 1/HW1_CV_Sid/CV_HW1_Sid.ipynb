{
 "cells": [
  {
   "cell_type": "markdown",
   "metadata": {},
   "source": [
    "# Gaussian Filtering, Edge Detection using Sobel Filter and Non-maximum suppression"
   ]
  },
  {
   "cell_type": "markdown",
   "metadata": {},
   "source": [
    "#### Importing libraries"
   ]
  },
  {
   "cell_type": "code",
   "execution_count": 15,
   "metadata": {},
   "outputs": [],
   "source": [
    "from PIL import Image\n",
    "import numpy as np\n",
    "import math as m\n",
    "import matplotlib.pyplot as plt"
   ]
  },
  {
   "cell_type": "markdown",
   "metadata": {},
   "source": [
    "#### Padding function"
   ]
  },
  {
   "cell_type": "code",
   "execution_count": 16,
   "metadata": {},
   "outputs": [],
   "source": [
    "def padding_the_image(image,size):\n",
    "    img = np.array(image)\n",
    "    prev_r, prev_c = img.shape\n",
    "    img = np.pad(img,[(size//2, size//2), (size//2, size//2)]) ### here size denotes the filter size\n",
    "    r, c = img.shape\n",
    "    \n",
    "    ### sets the values for padded zeros in the image\n",
    "    ### boundary values of the image are copied to the new padded cells (row)\n",
    "    for x in range(r):\n",
    "        temp = size//2 - 1\n",
    "        while temp >= 0:\n",
    "            img[x][temp] = img[x][temp + 1]\n",
    "            temp -= 1\n",
    "        temp = size//2 + prev_c\n",
    "        while temp < c:\n",
    "            img[x][temp] = img[x][temp - 1]\n",
    "            temp += 1\n",
    "            \n",
    "    ### sets the values for padded zeros in the image\n",
    "    ### boundary values of the image are copied to the new padded cells (column)\n",
    "    for y in range(c):\n",
    "        temp = size//2 - 1\n",
    "        while temp >= 0:\n",
    "            img[temp][y] = img[temp + 1][y]\n",
    "            temp -= 1\n",
    "        temp = size//2 + prev_r\n",
    "        while temp < r:\n",
    "            img[temp][y] = img[temp - 1][y]\n",
    "            temp += 1\n",
    "            \n",
    "    return img"
   ]
  },
  {
   "cell_type": "markdown",
   "metadata": {},
   "source": [
    "#### Value calculator for 2D Gaussian filter"
   ]
  },
  {
   "cell_type": "code",
   "execution_count": 17,
   "metadata": {},
   "outputs": [],
   "source": [
    "def val_for_gfilter(sigma, x, y):\n",
    "    return (1/(2 * (m.pi) * ((sigma) ** 2))*(1/(m.exp(((x**2) + (y**2))/(2 * (sigma ** 2))))))"
   ]
  },
  {
   "cell_type": "markdown",
   "metadata": {},
   "source": [
    "#### Creating the Gaussian filter"
   ]
  },
  {
   "cell_type": "code",
   "execution_count": 18,
   "metadata": {},
   "outputs": [],
   "source": [
    "def gauss_filter(size, sigma):\n",
    "    g_filter = np.zeros((size,size)) ### initially filling the filter with zeros\n",
    "    res = 0 ### used to take the sum of all elements of the filter\n",
    "    for x in range(size):\n",
    "        for y in range(size):\n",
    "            g_filter[x][y] = val_for_gfilter(sigma,x - (size//2),y - (size//2))\n",
    "            res += g_filter[x][y]\n",
    "            \n",
    "    g_filter *= 1.0/res ### we do this so that all values of the filter sum to 1 \n",
    "    \n",
    "    return g_filter"
   ]
  },
  {
   "cell_type": "markdown",
   "metadata": {},
   "source": [
    "#### Function to apply Gaussian Filter on an image"
   ]
  },
  {
   "cell_type": "code",
   "execution_count": 19,
   "metadata": {},
   "outputs": [],
   "source": [
    "def gfilter_the_img(image,gauss,size):\n",
    "    image = np.array(image)\n",
    "    image_row,image_col = image.shape\n",
    "    res = np.zeros(image.shape)\n",
    "    img = padding_the_image(image,size)\n",
    "    \n",
    "    ### calculating value for each cell of the smoothened image by matrix multiplication\n",
    "    for row in range(image_row):\n",
    "        for col in range(image_col):\n",
    "            res[row, col] = np.sum(gauss * img[row:row + size, col:col + size])\n",
    "    \n",
    "    return res"
   ]
  },
  {
   "cell_type": "markdown",
   "metadata": {},
   "source": [
    "#### Gradient Computation using Sobel Filters"
   ]
  },
  {
   "cell_type": "code",
   "execution_count": 20,
   "metadata": {},
   "outputs": [],
   "source": [
    "def sobel_filtering(image):\n",
    "    filter_x = [[-1,0,1],[-2,0,2],[-1,0,1]]\n",
    "    filter_y = [[-1,-2,-1],[0,0,0],[1,2,1]]\n",
    "    filter_x = np.array(filter_x)\n",
    "    filter_y = np.array(filter_y)\n",
    "    g_x = np.zeros(image.shape)\n",
    "    g_y = np.zeros(image.shape)\n",
    "    theta = np.zeros(image.shape)\n",
    "    r, c = image.shape\n",
    "    image = padding_the_image(image,3) ### padded with 3 because sobel filters are 3 x 3 size\n",
    "    \n",
    "    ### calculating Gx\n",
    "    for x in range(r):\n",
    "        for y in range(c):\n",
    "            g_x[x,y] = np.sum(filter_x * image[x:x+3,y:y+3])\n",
    "            \n",
    "    ### calculating Gy\n",
    "    for x in range(r):\n",
    "        for y in range(c):\n",
    "            g_y[x,y] = np.sum(filter_y * image[x:x+3,y:y+3])\n",
    "            \n",
    "    ### calculating theta which is arctan(Gy/Gx)\n",
    "    for x in range(r):\n",
    "        for y in range(c):\n",
    "            if(g_y[x][y] == 0 and g_x[x][y] == 0):\n",
    "                theta[x][y] = 0\n",
    "            elif(g_x[x][y] == 0):\n",
    "                theta[x][y] = 90\n",
    "            else:\n",
    "                theta[x][y] = m.degrees(np.arctan(g_y[x][y]/g_x[x][y]))\n",
    "            \n",
    "    ### calculating magnitute\n",
    "    g_x = g_x ** 2\n",
    "    g_y = g_y ** 2\n",
    "    g = np.add(g_x, g_y)\n",
    "    g = g ** (0.5)\n",
    "    ### selecting a threshold point\n",
    "    tpoint = np.quantile(g, 0.85)\n",
    "    for x in range(r):\n",
    "        for y in range(c):\n",
    "            if g[x][y] <= tpoint:\n",
    "                g[x][y] = 0\n",
    "            \n",
    "    ### return image and the gradient matrix\n",
    "    return g,theta"
   ]
  },
  {
   "cell_type": "markdown",
   "metadata": {},
   "source": [
    "#### Non-maximum suppression"
   ]
  },
  {
   "cell_type": "code",
   "execution_count": 21,
   "metadata": {},
   "outputs": [],
   "source": [
    "def non_max_suppress(image,theta):\n",
    "    \n",
    "    res = np.zeros(image.shape) \n",
    "    r, c = image.shape\n",
    "    img = padding_the_image(image,3)\n",
    "    dev = 22.5 \n",
    "    \n",
    "    for x in range(r):\n",
    "        for y in range(c):\n",
    "            if(0 - dev <= theta[x][y] <= 0 + dev or theta[x][y] >= 180 - dev or theta[x][y] <= -180 + dev):\n",
    "                if(img[x][y] > max(img[x-1][y],img[x+1][y])):\n",
    "                    res[x][y] = img[x][y]\n",
    "                else:\n",
    "                    res[x][y] = 0\n",
    "            elif(90 - dev <= theta[x][y] <= 90 + dev or -90 - dev <= theta[x][y] <= -90 + dev):\n",
    "                if(img[x][y] > max(img[x][y-1],img[x][y+1])):\n",
    "                    res[x][y] = img[x][y]\n",
    "                else:\n",
    "                    res[x][y] = 0\n",
    "            elif(45 - dev < theta[x][y] < 45 + dev or -135 - dev < theta[x][y] < -135 + dev):\n",
    "                if(img[x][y] > max(img[x-1][y-1],img[x+1][y+1])):\n",
    "                    res[x][y] = img[x][y]\n",
    "                else:\n",
    "                    res[x][y] = 0\n",
    "            elif(135 - dev < theta[x][y] < 135 + dev or -45 - dev < theta[x][y] < -45 + dev):\n",
    "                if(img[x][y] > max(img[x-1][y+1],img[x+1][y-1])):\n",
    "                    res[x][y] = img[x][y]\n",
    "                else:\n",
    "                    res[x][y] = 0\n",
    "                    \n",
    "    ### used for wrapping\n",
    "    res = res.astype(np.uint8)\n",
    "    \n",
    "    res = Image.fromarray(res)\n",
    "    return res"
   ]
  },
  {
   "cell_type": "markdown",
   "metadata": {},
   "source": [
    "#### Main function"
   ]
  },
  {
   "cell_type": "code",
   "execution_count": 40,
   "metadata": {},
   "outputs": [
    {
     "name": "stdout",
     "output_type": "stream",
     "text": [
      "Enter image name with format: red.pgm\n",
      "Enter the value of sigma: 10\n",
      "Press 1 for custom filter size or 0 for default size, i.e. 5: 0\n"
     ]
    }
   ],
   "source": [
    "def main(str = input(\"Enter image name with format: \"), sigma = int(input(\"Enter the value of sigma: \"))):\n",
    "    ans = int(input(\"Press 1 for custom filter size or 0 for default size, i.e. 5: \"))\n",
    "    if ans == 1:\n",
    "        size = int(input(\"Enter custom odd filter size: \"))\n",
    "    else:\n",
    "        size = 5\n",
    "\n",
    "    image = Image.open(str)\n",
    "    image.show()\n",
    "    g_img = gfilter_the_img(image,gauss_filter(size,sigma),size)\n",
    "    temp_g = g_img.astype(np.uint8)\n",
    "    temp_g = Image.fromarray(temp_g)\n",
    "    temp_g = temp_g.save(\"gauss_1.jpg\")\n",
    "#     plt.imshow(g_img, cmap = 'gray')\n",
    "#     plt.show()\n",
    "    s_img_ar,direction = sobel_filtering(g_img)\n",
    "    s_save = s_img_ar.astype(np.uint8)\n",
    "    s_save = Image.fromarray(s_save)\n",
    "    s_img = Image.fromarray(s_img_ar)\n",
    "    s_save = s_save.save(\"sobel_1.jpg\")\n",
    "#     plt.imshow(s_img, cmap = 'gray')\n",
    "#     plt.show()\n",
    "    nms_img = non_max_suppress(s_img_ar,direction)\n",
    "    nms_img = nms_img.save(\"nms_1.jpg\")\n",
    "#     plt.imshow(nms_img, cmap = 'gray')\n",
    "#     plt.show() \n",
    "    \n",
    "\n",
    "main()"
   ]
  }
 ],
 "metadata": {
  "kernelspec": {
   "display_name": "Python 3",
   "language": "python",
   "name": "python3"
  },
  "language_info": {
   "codemirror_mode": {
    "name": "ipython",
    "version": 3
   },
   "file_extension": ".py",
   "mimetype": "text/x-python",
   "name": "python",
   "nbconvert_exporter": "python",
   "pygments_lexer": "ipython3",
   "version": "3.7.6"
  }
 },
 "nbformat": 4,
 "nbformat_minor": 4
}
